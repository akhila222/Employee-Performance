{
  "nbformat": 4,
  "nbformat_minor": 0,
  "metadata": {
    "colab": {
      "provenance": []
    },
    "kernelspec": {
      "name": "python3",
      "display_name": "Python 3"
    },
    "language_info": {
      "name": "python"
    }
  },
  "cells": [
    {
      "cell_type": "markdown",
      "source": [
        "* Candidate Name : Akhila VS\n",
        "* Project Code: 10281"
      ],
      "metadata": {
        "id": "Lc_wq2zPgeJp"
      }
    },
    {
      "cell_type": "markdown",
      "source": [
        "# **PROJECT SUMMARY:**\n",
        "<h3> Based on given feature of dataset we need to predict the perfomance rating of employee</h3>\n",
        "\n"
      ],
      "metadata": {
        "id": "OdLsfNQCWNMW"
      }
    },
    {
      "cell_type": "markdown",
      "source": [
        "**INX Future Inc Employee Performance - Project**\n",
        "The Data science project which is given here is an analysis of employee performance."
      ],
      "metadata": {
        "id": "0_qU7Xa8WM_R"
      }
    },
    {
      "cell_type": "markdown",
      "source": [
        "INX Future Inc , (referred as INX ) , is one of the leading data analytics and automation solutions provider with over 15 years of global business presence. INX is consistently rated as top 20 best employers past 5 years. Recent years, the employee performance indexes are not healthy and this is becoming a growing concerns among the top management.CEO, Mr. Brain, knows the issues but concerned to take any actions in penalizing non-performing employees as this would affect the employee morale of all the employees in general and may further reduce the performance\n",
        "\n",
        "The following insights are expected from this project:\n",
        "\n",
        "Department wise performances\n",
        "Top 3 Important Factors effecting employee performance\n",
        "A trained model which can predict the employee performance based on factors as inputs. This will be used to hire employees\n",
        "Recommendations to improve the employee performance based on insights from analysis.\n",
        "\n",
        "#-->Requirements\n",
        "\n",
        "Dataset: The data was given from the IABAC for this project where the collected source is IABAC™. The data is based on INX Future Inc, (referred as INX ). The data is not from the real organization.\n",
        "The whole project was done in google colab with Python 3 Google Compute Engine backend.\n",
        "\n",
        "# **Data Analysis**\n",
        "The given Employee dataset consist of 1200 rows and 28 columns. The 28 features are classified into quantitative and qualitative where 19 features are quantitative (11 columns consists numeric data & 8 columns consists ordinal data) and 8 features are qualitative.\n",
        "The Target variable consist of ordinal data, so this is a classification problem.\n",
        "\n",
        "\n",
        "**Categorical Features:**\n",
        "\n",
        "* EmpNumber\n",
        "* Gender\n",
        "* EducationBackground\n",
        "* MaritalStatus\n",
        "* EmpDepartment\n",
        "* EmpJobRole\n",
        "* BusinessTravelFrequency\n",
        "* OverTime\n",
        "* Attrition\n",
        "\n",
        "**Numerical Features:**\n",
        "\n",
        "* Age\n",
        "* DistanceFromHome\n",
        "* EmpHourlyRate\n",
        "* NumCompaniesWorked\n",
        "* EmpLastSalaryHikePercent\n",
        "* TotalWorkExperienceInYears\n",
        "* TrainingTimesLastYear\n",
        "* ExperienceYearsAtThisCompany\n",
        "* ExperienceYearsInCurrentRole\n",
        "* YearsSinceLastPromotion\n",
        "* YearsWithCurrManager\n",
        "\n",
        "**Ordinal Features:**\n",
        "\n",
        "* EmpEducationLevel\n",
        "* EmpEnvironmentSatisfaction\n",
        "* EmpJobInvolvement\n",
        "* EmpJobLevel\n",
        "* EmpJobSatisfaction\n",
        "* EmpRelationshipSatisfaction\n",
        "* EmpWorkLifeBalance\n",
        "* PerformanceRating\n"
      ],
      "metadata": {
        "id": "WT-se2-YV5sU"
      }
    },
    {
      "cell_type": "markdown",
      "source": [
        "# **Data Processing**\n",
        "* Importing the data set\n",
        "* Basic checks\n",
        "  * Head and tail\n",
        "  * Shape\n",
        "  * Cloumn\n",
        "  * Info\n",
        "  * Statistical analysis (describe)\n",
        "  * Unique values in features"
      ],
      "metadata": {
        "id": "ce7yl9E1aX9b"
      }
    },
    {
      "cell_type": "markdown",
      "source": [
        "# **Explotary Data Analysis**\n",
        "* Library Used: Matplotlib & Seaborn\n",
        "* Plots Used: distplot, boxplot, CountPlot, Barplot\n",
        "   * Checking distribution of Continuous features\n",
        "   * Univariate Analysis with insights\n",
        "   * Bivariate Analysis with insights\n",
        "   * Multivariat Analysis with insights\n",
        "   * Department wise performance rating\n",
        "\n",
        "**CONCLUSION**\n",
        "There are some features are positively correlated with performance rating( Target variable)\n",
        "[Emp Environment Satisfaction,Emp Last Salary Hike Percent,Emp Work Life Balance]\n",
        "\n",
        "\n"
      ],
      "metadata": {
        "id": "_Nf7T-JUWyuH"
      }
    },
    {
      "cell_type": "markdown",
      "source": [
        "# **Data Pre-Processing**\n",
        "* Check Missing Value: Their is no missing value in data\n",
        "* Outlier Handling :IQR Method is using for outlier handling.\n",
        "Imputed with median if the oulier percentage is less than or equal to 5% otherwise keeping the original data because it may leads data loss\n",
        "* Categorical Data Conversion: Frequency encoding method is used for encoding\n",
        "* Feature engineering and scaling\n",
        "  * Droped unique colum EmpNum\n",
        "  * Checked the Correlation\n",
        "* Top 3 Important Factors effecting employee performance\n",
        "\n",
        " These are the most affecting factors on employee performance:\n",
        "EmpEnvironmentSatisfaction,\n",
        "EmpLastSalaryHikePercent,\n",
        "EmpWorkLifeBalance\n",
        "* Scaling: Used standardscaler() for scaling\n",
        "* Saving Pre-Process Data: save the all preprocess data in new file and add target feature to it."
      ],
      "metadata": {
        "id": "wui7rrs1ZttK"
      }
    },
    {
      "cell_type": "markdown",
      "source": [
        "# **Machine learning Model Creation & Evaluation**\n",
        "* Define Dependant and Independant Features:\n",
        "\n",
        "* Balancing the data: The data is imbalance, so we need to balance the data with the help of SMOTE\n",
        "\n",
        "SMOTE: SMOTE (synthetic minority oversampling technique) is one of the most commonly used oversampling methods to solve the imbalance problem. It aims to balance class distribution by randomly increasing minority class examples by replicating them. SMOTE synthesises new minority instances between existing minority instances.\n",
        "* Splitting Training And Testing Data\n",
        "\n",
        "* Algorithm: Algorithms used\n",
        " LogisticRegression(),KNeighborsClassifier(), SVC(),GaussianNB(),DecisionTreeClassifier(),RandomForestClassifier(),GradientBoostingClassifier(),\n",
        "MLPClassifier()\n",
        "\n",
        " * Gradient Boosting classifier and Random forest classifier learns well in these model accuracy  with 93 and 91 respectively.Performed hpperparameter tuning in Gradient boosting and Random forest models using RandomizedSearchCV\n",
        "  after tuning accuracy increased s 95 and 93  respectively with roc_auc_curve\n",
        "* Created dataframe for both prediction with y_test value for visualization\n",
        "\n",
        "\n",
        "  "
      ],
      "metadata": {
        "id": "7SRPZTH2cY6q"
      }
    },
    {
      "cell_type": "markdown",
      "source": [
        "# **Saving Model**\n",
        "Saved the both model with the help of pickle file"
      ],
      "metadata": {
        "id": "5Ymsr0B0ewyF"
      }
    },
    {
      "cell_type": "markdown",
      "source": [
        "# **Recommendations to improve the employee performance**\n",
        "* The overall employee performance can be achieved by employee environment satisfaction. The company needs to focus more on the employee environment satisfaction.\n",
        "* The salary hike will give the boost to the employees to perform well.\n",
        "Promote the employee ervery 6th month or 1 year\n",
        "* Improving Employee's work-life balance this affects the performance rating.\n",
        "While recruiting for HR, consider the female candidates where they perform well compared to male.\n",
        "* The development and sales department is having an overall higher performance comparing to rest of the departments.\n",
        "* Giving proper training will also increases performance rating\n"
      ],
      "metadata": {
        "id": "TBSYm-KZfWjI"
      }
    }
  ]
}